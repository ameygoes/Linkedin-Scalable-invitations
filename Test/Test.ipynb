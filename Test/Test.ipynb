{
 "cells": [
  {
   "cell_type": "code",
   "execution_count": 1,
   "id": "229973f1",
   "metadata": {},
   "outputs": [
    {
     "name": "stdout",
     "output_type": "stream",
     "text": [
      "Your BASE_DIR is SET to: D:\\study-code-repeat\\coding\\Linkedin-Scalable-invitations \n",
      "Your BASE_DIR is SET to: D:\\study-code-repeat\\coding\\Linkedin-Scalable-invitations \n",
      "Your BASE_DIR is SET to: D:\\study-code-repeat\\coding\\Linkedin-Scalable-invitations \n"
     ]
    }
   ],
   "source": [
    "from Configs.dbConfigs import PROFILE_TABLE_COLUMNS\n",
    "from Configs.jobConfigs import COMPANY_NAME, KEYWORD_TITLE, MAX_LINKEDIN_API_CALLS_LIMIT, NETWORK_DEPTHS, REGION, SEARCH_RESULT_LIMIT\n",
    "from Entity.profile import Profile\n",
    "from Main.login import Login\n",
    "import pandas as pd\n",
    "from Utils.gsutils import GoogleSheet\n",
    "from Utils.utils import get_concatinated_df, get_df_items_for_search_results, get_offset_count, get_overall_category, get_scheduler_config, get_uncommon_rows, remove_duplicates_from_df, update_schedulers_config\n"
   ]
  },
  {
   "cell_type": "code",
   "execution_count": 2,
   "id": "a4a3d488",
   "metadata": {},
   "outputs": [],
   "source": [
    "\n",
    "# LOGIN TO LINKEDIN\n",
    "api = Login()\n",
    "\n",
    "\n",
    "# GETTING READY FOR GOOGLE SPREADSHEET\n",
    "gsheet = GoogleSheet()\n",
    "\n"
   ]
  },
  {
   "cell_type": "code",
   "execution_count": 3,
   "id": "1ed6721d",
   "metadata": {},
   "outputs": [],
   "source": [
    "# FETCH EXISTING DATA FROM GOOGLE SPREADSHEET\n",
    "df_people_from_gsheet = gsheet.get_spreadsheet_data()\n",
    "\n",
    "\n",
    "# Assuming your DataFrame is named df\n",
    "category_searching = get_overall_category(KEYWORD_TITLE)\n",
    "counts = df_people_from_gsheet[df_people_from_gsheet['profile_latest_company'].apply(lambda x: x.lower()) == COMPANY_NAME.lower()].groupby('category').size()\n",
    "OFFSET_LIMIT = get_offset_count(counts,category_searching)\n",
    "\n"
   ]
  },
  {
   "cell_type": "code",
   "execution_count": 4,
   "id": "2b6ff26d",
   "metadata": {},
   "outputs": [
    {
     "data": {
      "text/html": [
       "<div>\n",
       "<style scoped>\n",
       "    .dataframe tbody tr th:only-of-type {\n",
       "        vertical-align: middle;\n",
       "    }\n",
       "\n",
       "    .dataframe tbody tr th {\n",
       "        vertical-align: top;\n",
       "    }\n",
       "\n",
       "    .dataframe thead th {\n",
       "        text-align: right;\n",
       "    }\n",
       "</style>\n",
       "<table border=\"1\" class=\"dataframe\">\n",
       "  <thead>\n",
       "    <tr style=\"text-align: right;\">\n",
       "      <th></th>\n",
       "      <th>public_id</th>\n",
       "      <th>profile_urn_id</th>\n",
       "      <th>profile_firstName</th>\n",
       "      <th>profile_lastName</th>\n",
       "      <th>profile_network_distance</th>\n",
       "      <th>profile_latest_company</th>\n",
       "      <th>profile_latest_job_title</th>\n",
       "      <th>category</th>\n",
       "      <th>connection_req_sent_status</th>\n",
       "      <th>connection_req_sent_date</th>\n",
       "      <th>connection_req_withdrawn_status</th>\n",
       "      <th>connection_req_withdrawn_date</th>\n",
       "      <th>record_added_to_sheet</th>\n",
       "    </tr>\n",
       "  </thead>\n",
       "  <tbody>\n",
       "    <tr>\n",
       "      <th>0</th>\n",
       "      <td></td>\n",
       "      <td></td>\n",
       "      <td></td>\n",
       "      <td></td>\n",
       "      <td></td>\n",
       "      <td></td>\n",
       "      <td></td>\n",
       "      <td></td>\n",
       "      <td></td>\n",
       "      <td></td>\n",
       "      <td></td>\n",
       "      <td></td>\n",
       "      <td></td>\n",
       "    </tr>\n",
       "  </tbody>\n",
       "</table>\n",
       "</div>"
      ],
      "text/plain": [
       "  public_id profile_urn_id profile_firstName profile_lastName   \n",
       "0                                                              \\\n",
       "\n",
       "  profile_network_distance profile_latest_company profile_latest_job_title   \n",
       "0                                                                           \\\n",
       "\n",
       "  category connection_req_sent_status connection_req_sent_date   \n",
       "0                                                               \\\n",
       "\n",
       "  connection_req_withdrawn_status connection_req_withdrawn_date   \n",
       "0                                                                \\\n",
       "\n",
       "  record_added_to_sheet  \n",
       "0                        "
      ]
     },
     "execution_count": 4,
     "metadata": {},
     "output_type": "execute_result"
    }
   ],
   "source": [
    "df_people_from_gsheet"
   ]
  },
  {
   "cell_type": "code",
   "execution_count": 5,
   "id": "2715cc29",
   "metadata": {},
   "outputs": [
    {
     "data": {
      "text/plain": [
       "1"
      ]
     },
     "execution_count": 5,
     "metadata": {},
     "output_type": "execute_result"
    }
   ],
   "source": [
    "OFFSET_LIMIT"
   ]
  },
  {
   "cell_type": "code",
   "execution_count": 6,
   "id": "9370e7fd",
   "metadata": {},
   "outputs": [
    {
     "data": {
      "text/plain": [
       "'HR'"
      ]
     },
     "execution_count": 6,
     "metadata": {},
     "output_type": "execute_result"
    }
   ],
   "source": [
    "category_searching"
   ]
  },
  {
   "cell_type": "code",
   "execution_count": 7,
   "id": "706540ab",
   "metadata": {},
   "outputs": [
    {
     "data": {
      "text/plain": [
       "Series([], dtype: int64)"
      ]
     },
     "execution_count": 7,
     "metadata": {},
     "output_type": "execute_result"
    }
   ],
   "source": [
    "counts"
   ]
  },
  {
   "cell_type": "code",
   "execution_count": 8,
   "id": "66bbd505",
   "metadata": {},
   "outputs": [],
   "source": [
    "# WE ARE ALLOWED TO MAKE AROUND 500 CALLS TO LINKEDIN PER HOURS TO PREVENT IT FROM MARKING AT AS A BOT\n",
    "# WE WILL USE 350 AS PER HOUR LIMIT FOR SAFE SIDE\n",
    "# TOTAL CALLS TO LIKNEDIN: LIMIT + 2 SO OUR LIMIT SHOULD NOT EXCEED 348 IN TOTAL\n",
    "total_no_of_api_calls_to_lk = get_scheduler_config('total_number_of_api_calls_to_linkedin')\n",
    "\n"
   ]
  },
  {
   "cell_type": "code",
   "execution_count": 9,
   "id": "60d633e5",
   "metadata": {},
   "outputs": [
    {
     "data": {
      "text/plain": [
       "32"
      ]
     },
     "execution_count": 9,
     "metadata": {},
     "output_type": "execute_result"
    }
   ],
   "source": [
    "total_no_of_api_calls_to_lk"
   ]
  },
  {
   "cell_type": "code",
   "execution_count": 10,
   "id": "54c02208",
   "metadata": {},
   "outputs": [
    {
     "name": "stdout",
     "output_type": "stream",
     "text": [
      "Here in the search\n",
      "Updated data in sheet 'profile_test' of spreadsheet 'linkedin_automation_test'.\n"
     ]
    }
   ],
   "source": [
    "if (MAX_LINKEDIN_API_CALLS_LIMIT - total_no_of_api_calls_to_lk - SEARCH_RESULT_LIMIT) > 0:\n",
    "    \n",
    "    try:\n",
    "        # CALL TO SEARCH PEOPLE\n",
    "        results = api.search_people(\n",
    "                                    keyword_title=KEYWORD_TITLE,\n",
    "                                    regions=REGION,\n",
    "                                    network_depths=NETWORK_DEPTHS,\n",
    "                                    keyword_company=COMPANY_NAME,\n",
    "                                    limit=SEARCH_RESULT_LIMIT,\n",
    "                                    offset=OFFSET_LIMIT\n",
    "                                    )\n",
    "        # CREATING AN EMPTY LIST TO STORE PEOPLE FROM SEARCH\n",
    "        people_from_search_json_list = []\n",
    "\n",
    "        # LOOPING OVER TO FETCH PEOPLE DATA FROM GET_PROFILE API AND PARSING RESULTS INTO OBJECT\n",
    "        for peopleJSON in results:\n",
    "            profile = Profile()\n",
    "\n",
    "            # GET PROFILE\n",
    "            peopleProfile = api.get_profile(peopleJSON[\"urn_id\"])\n",
    "\n",
    "            # PROFILE PARSING\n",
    "            profile.parseProfileJSON(peopleProfile)\n",
    "            profile.parseSearchPeopleJSON(peopleJSON)\n",
    "\n",
    "            # APPENDING TO LIST\n",
    "            people_from_search_json_list.append(get_df_items_for_search_results(profile))\n",
    "\n",
    "        update_schedulers_config('total_number_of_api_calls_to_linkedin',  total_no_of_api_calls_to_lk + SEARCH_RESULT_LIMIT + 2)\n",
    "\n",
    "        # CONVERTING LIST TO A DATAFRAME\n",
    "        df_people_from_search = pd.DataFrame(people_from_search_json_list, columns=PROFILE_TABLE_COLUMNS)\n",
    "\n",
    "        # GET THE NEW ROWS TO BE ADDED TO GOOGLE SPREADSHEET\n",
    "        new_rows_added_df = get_uncommon_rows(df_people_from_gsheet, df_people_from_search)\n",
    "        concatinated_df = get_concatinated_df(df_people_from_gsheet, new_rows_added_df)\n",
    "\n",
    "        # REMOVE DUPLICATES\n",
    "        no_duplicates_df = remove_duplicates_from_df(concatinated_df, unq_identifier_col='profile_urn_id')\n",
    "\n",
    "        # UPDATE DATA IN GOOGLE SPREADSHEET\n",
    "        gsheet.update_spreadsheet(no_duplicates_df)\n",
    "    except e:\n",
    "        print(f\"Exception Occured:\\n {e}\")\n",
    "        update_schedulers_config('total_number_of_api_calls_to_linkedin',  total_no_of_api_calls_to_lk)\n",
    "else:\n",
    "    print(\"Max api calls to linkedin exceeded. Try after an hour.\")"
   ]
  },
  {
   "cell_type": "code",
   "execution_count": 11,
   "id": "c01a3bb0",
   "metadata": {},
   "outputs": [
    {
     "data": {
      "text/plain": [
       "[]"
      ]
     },
     "execution_count": 11,
     "metadata": {},
     "output_type": "execute_result"
    }
   ],
   "source": [
    "results"
   ]
  },
  {
   "cell_type": "code",
   "execution_count": 27,
   "id": "25956986",
   "metadata": {},
   "outputs": [
    {
     "data": {
      "text/plain": [
       "['Recruiter', 'Technical Recruiter', 'Talent Acquisition Specialist']"
      ]
     },
     "execution_count": 27,
     "metadata": {},
     "output_type": "execute_result"
    }
   ],
   "source": [
    "KEYWORD_TITLE"
   ]
  },
  {
   "cell_type": "code",
   "execution_count": 17,
   "id": "10480a0e",
   "metadata": {},
   "outputs": [
    {
     "data": {
      "text/plain": [
       "320"
      ]
     },
     "execution_count": 17,
     "metadata": {},
     "output_type": "execute_result"
    }
   ],
   "source": [
    "MAX_LINKEDIN_API_CALLS_LIMIT - total_no_of_api_calls_to_lk - SEARCH_RESULT_LIMIT"
   ]
  },
  {
   "cell_type": "code",
   "execution_count": 13,
   "id": "5d3ae2d0",
   "metadata": {},
   "outputs": [
    {
     "data": {
      "text/plain": [
       "True"
      ]
     },
     "execution_count": 13,
     "metadata": {},
     "output_type": "execute_result"
    }
   ],
   "source": [
    "(MAX_LINKEDIN_API_CALLS_LIMIT - total_no_of_api_calls_to_lk - SEARCH_RESULT_LIMIT) > 0"
   ]
  },
  {
   "cell_type": "code",
   "execution_count": null,
   "id": "902c8f67",
   "metadata": {},
   "outputs": [],
   "source": []
  }
 ],
 "metadata": {
  "kernelspec": {
   "display_name": "Python 3 (ipykernel)",
   "language": "python",
   "name": "python3"
  },
  "language_info": {
   "codemirror_mode": {
    "name": "ipython",
    "version": 3
   },
   "file_extension": ".py",
   "mimetype": "text/x-python",
   "name": "python",
   "nbconvert_exporter": "python",
   "pygments_lexer": "ipython3",
   "version": "3.9.1"
  }
 },
 "nbformat": 4,
 "nbformat_minor": 5
}
