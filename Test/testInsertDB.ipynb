{
 "cells": [
  {
   "cell_type": "code",
   "execution_count": 2,
   "id": "2d3eec69",
   "metadata": {},
   "outputs": [
    {
     "name": "stdout",
     "output_type": "stream",
     "text": [
      "Your BASE_DIR is SET to: D:\\study-code-repeat\\coding\\Linkedin-Scalable-invitations \n",
      "Your BASE_DIR is SET to: D:\\study-code-repeat\\coding\\Linkedin-Scalable-invitations \n",
      "Your BASE_DIR is SET to: D:\\study-code-repeat\\coding\\Linkedin-Scalable-invitations \n"
     ]
    }
   ],
   "source": [
    "from Configs.dbConfigs import FETCH_COMPANY_RECRUITERS_FOR_OFFSET\n",
    "from Configs.envrinomentSpecificConfgis import TABLE_NAME\n",
    "from Configs.jobConfigs import COMPANY_NAME, KEYWORD_TITLE\n",
    "from Main.login import Login\n",
    "from Utils.dbUtils import execute_get_command\n",
    "from Utils.utils import get_overall_category"
   ]
  },
  {
   "cell_type": "code",
   "execution_count": null,
   "id": "98559b8c",
   "metadata": {},
   "outputs": [],
   "source": [
    "# LOGIN TO LINKEDIN\n",
    "api = Login()\n",
    "\n",
    "# Assuming your DataFrame is named df\n",
    "category_searching = get_overall_category(KEYWORD_TITLE)\n"
   ]
  },
  {
   "cell_type": "code",
   "execution_count": null,
   "id": "c18cd3ad",
   "metadata": {},
   "outputs": [],
   "source": []
  }
 ],
 "metadata": {
  "kernelspec": {
   "display_name": "Python 3 (ipykernel)",
   "language": "python",
   "name": "python3"
  },
  "language_info": {
   "codemirror_mode": {
    "name": "ipython",
    "version": 3
   },
   "file_extension": ".py",
   "mimetype": "text/x-python",
   "name": "python",
   "nbconvert_exporter": "python",
   "pygments_lexer": "ipython3",
   "version": "3.9.1"
  }
 },
 "nbformat": 4,
 "nbformat_minor": 5
}
