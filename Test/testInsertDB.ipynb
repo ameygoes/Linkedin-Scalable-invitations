{
 "cells": [
  {
   "cell_type": "code",
   "execution_count": 2,
   "id": "af64e05d",
   "metadata": {},
   "outputs": [
    {
     "name": "stdout",
     "output_type": "stream",
     "text": [
      "Your BASE_DIR is SET to: D:\\study-code-repeat\\coding\\Linkedin-Scalable-invitations \n"
     ]
    }
   ],
   "source": [
    "import pandas as pd\n",
    "from Entity.profile import Profile\n",
    "from Configs.dbConfigs import FETCH_COMPANY_PEOPLE, FETCH_COMPANY_PEOPLE_FOR_OFFSET, INSERT_QUERY_PROFILE, PROFILE_TABLE_COLUMNS\n",
    "from Configs.envrinomentSpecificConfgis import TABLE_NAME\n",
    "from Configs.jobConfigs import COMPANY_NAME, KEYWORD_TITLE, MAX_LINKEDIN_API_CALLS_LIMIT, SEARCH_RESULT_LIMIT\n",
    "from Main.login import Login\n",
    "from Utils.dbUtils import insert_bulk_data, execute_get_command, readSQLQueryinPD\n",
    "from Utils.utils import get_concatinated_df, get_df_items_for_search_results, get_overall_category, get_scheduler_config, get_uncommon_rows, remove_duplicates_from_df, update_schedulers_config\n"
   ]
  },
  {
   "cell_type": "code",
   "execution_count": 3,
   "id": "d71550fa",
   "metadata": {},
   "outputs": [
    {
     "data": {
      "text/plain": [
       "5"
      ]
     },
     "execution_count": 3,
     "metadata": {},
     "output_type": "execute_result"
    }
   ],
   "source": [
    "SEARCH_RESULT_LIMIT"
   ]
  },
  {
   "cell_type": "code",
   "execution_count": null,
   "id": "644682d0",
   "metadata": {},
   "outputs": [],
   "source": [
    "# LOGIN TO LINKEDIN\n",
    "api = Login()\n",
    "\n",
    "# Assuming your DataFrame is named df\n",
    "category_searching = get_overall_category(KEYWORD_TITLE)\n"
   ]
  },
  {
   "cell_type": "code",
   "execution_count": null,
   "id": "578826e7",
   "metadata": {},
   "outputs": [],
   "source": [
    "category_searching"
   ]
  },
  {
   "cell_type": "code",
   "execution_count": null,
   "id": "114872c7",
   "metadata": {},
   "outputs": [],
   "source": [
    "\n",
    "# FETCH EXISTING DATA FROM GOOGLE SPREADSHEET\n",
    "OFFSET_LIMIT = execute_get_command(FETCH_COMPANY_PEOPLE_FOR_OFFSET.format(TABLE_NAME, COMPANY_NAME.lower(), category_searching.lower()))[0][0]\n"
   ]
  },
  {
   "cell_type": "code",
   "execution_count": null,
   "id": "c79cb3c1",
   "metadata": {},
   "outputs": [],
   "source": [
    "OFFSET_LIMIT"
   ]
  },
  {
   "cell_type": "code",
   "execution_count": null,
   "id": "f34d6de2",
   "metadata": {},
   "outputs": [],
   "source": [
    "\n",
    "\n",
    "# WE ARE ALLOWED TO MAKE AROUND 500 CALLS TO LINKEDIN PER HOURS TO PREVENT IT FROM MARKING AT AS A BOT\n",
    "# WE WILL USE 350 AS PER HOUR LIMIT FOR SAFE SIDE\n",
    "# TOTAL CALLS TO LIKNEDIN: LIMIT + 2 SO OUR LIMIT SHOULD NOT EXCEED 348 IN TOTAL\n",
    "total_no_of_api_calls_to_lk = get_scheduler_config('total_number_of_api_calls_to_linkedin')\n",
    "\n",
    "if (MAX_LINKEDIN_API_CALLS_LIMIT - total_no_of_api_calls_to_lk - SEARCH_RESULT_LIMIT) > 0:\n",
    "\n",
    "    try:\n",
    "        # CREATING AN EMPTY LIST TO STORE PEOPLE FROM SEARCH\n",
    "        people_from_search_json_list = []\n",
    "\n",
    "        # CALL TO SEARCH PEOPLE\n",
    "        results = api.search_peoplev2(\n",
    "                            keywords=\"Recruiters\",\n",
    "                            limit=SEARCH_RESULT_LIMIT,\n",
    "                            offset=OFFSET_LIMIT,\n",
    "                            currentCompany=[1441],\n",
    "                            network=[\"S\", \"O\"],\n",
    "                            geoUrn=[103644278],\n",
    "                            title=[],\n",
    "                            resultType=[\"PEOPLE\"],\n",
    "                            # Keywords inside filters\n",
    "                            company=[],\n",
    "                            firstName=[],\n",
    "                            lastName=None,\n",
    "                            connectionOf=[],\n",
    "                            followerOf=[],\n",
    "                            # list of strings\n",
    "                            talksAbout=[],\n",
    "                            industry=[],\n",
    "                            pastCompany=[],\n",
    "                            profileLanguage=[],\n",
    "                            schoolFilter=[],\n",
    "                            schoolFreetext=[],\n",
    "                            searchId=[\"b418ee28-c4de-4324-a085-ffe3525acddd\"],\n",
    "                            )\n",
    "\n",
    "        # LOOPING OVER TO FETCH PEOPLE DATA FROM GET_PROFILE API AND PARSING RESULTS INTO OBJECT\n",
    "        for peopleJSON in results:\n",
    "            profile = Profile()\n",
    "            \n",
    "            # GET PROFILE\n",
    "            peopleProfile = api.get_profile(peopleJSON[\"urn_id\"])\n",
    "            \n",
    "            # PROFILE PARSING\n",
    "            profile.parseProfileJSON(peopleProfile)\n",
    "            profile.parseSearchPeopleJSON(peopleJSON)\n",
    "            \n",
    "            # APPENDING TO LIST\n",
    "            people_from_search_json_list.append(get_df_items_for_search_results(profile))\n",
    "\n",
    "        # CONVERTING LIST TO A DATAFRAME\n",
    "        df_people_from_search = pd.DataFrame(people_from_search_json_list, columns=PROFILE_TABLE_COLUMNS)\n",
    "        df_people_from_db = readSQLQueryinPD(FETCH_COMPANY_PEOPLE.format(TABLE_NAME, COMPANY_NAME.lower(), category_searching))\n",
    "        \n",
    "        # # GET THE NEW ROWS TO BE ADDED TO GOOGLE SPREADSHEET\n",
    "        new_rows_added_df = get_uncommon_rows(df_people_from_db, df_people_from_search)\n",
    "        # # REMOVE DUPLICATES\n",
    "        no_duplicates_df = remove_duplicates_from_df(new_rows_added_df, unq_identifier_col='profile_urn_id')\n",
    "\n",
    "        # # UPDATE DATA IN GOOGLE SPREADSHEET\n",
    "        # gsheet.update_spreadsheet(no_duplicates_df)\n",
    "\n",
    "        update_schedulers_config('total_number_of_api_calls_to_linkedin',  total_no_of_api_calls_to_lk + SEARCH_RESULT_LIMIT + 2)\n",
    "    \n",
    "    except e:\n",
    "        print(f\"Exception Occured:\\n {e}\")\n",
    "        update_schedulers_config('total_number_of_api_calls_to_linkedin',  total_no_of_api_calls_to_lk)\n",
    "else:\n",
    "    print(\"Max api calls to linkedin exceeded. Try after an hour.\")"
   ]
  },
  {
   "cell_type": "code",
   "execution_count": null,
   "id": "ed0109a5",
   "metadata": {},
   "outputs": [],
   "source": [
    " new_rows_added_df = get_uncommon_rows(df_people_from_db, df_people_from_search)"
   ]
  },
  {
   "cell_type": "code",
   "execution_count": null,
   "id": "c530d20d",
   "metadata": {},
   "outputs": [],
   "source": [
    "no_duplicates_df"
   ]
  },
  {
   "cell_type": "code",
   "execution_count": null,
   "id": "415d0e85",
   "metadata": {},
   "outputs": [],
   "source": [
    "df_people_from_db"
   ]
  },
  {
   "cell_type": "code",
   "execution_count": null,
   "id": "ccce6df4",
   "metadata": {},
   "outputs": [],
   "source": [
    "insert_bulk_data(no_duplicates_df, INSERT_QUERY_PROFILE.format(TABLE_NAME))"
   ]
  },
  {
   "cell_type": "code",
   "execution_count": null,
   "id": "dab71570",
   "metadata": {},
   "outputs": [],
   "source": []
  }
 ],
 "metadata": {
  "kernelspec": {
   "display_name": "Python 3 (ipykernel)",
   "language": "python",
   "name": "python3"
  },
  "language_info": {
   "codemirror_mode": {
    "name": "ipython",
    "version": 3
   },
   "file_extension": ".py",
   "mimetype": "text/x-python",
   "name": "python",
   "nbconvert_exporter": "python",
   "pygments_lexer": "ipython3",
   "version": "3.9.1"
  }
 },
 "nbformat": 4,
 "nbformat_minor": 5
}
