{
 "cells": [
  {
   "cell_type": "code",
   "execution_count": null,
   "id": "918f87c4",
   "metadata": {},
   "outputs": [],
   "source": []
  },
  {
   "cell_type": "code",
   "execution_count": 1,
   "id": "f21fdd8e",
   "metadata": {},
   "outputs": [
    {
     "ename": "FileNotFoundError",
     "evalue": "[Errno 2] No such file or directory: '..\\\\Params\\\\test\\\\jobParams.yaml'",
     "output_type": "error",
     "traceback": [
      "\u001b[1;31m---------------------------------------------------------------------------\u001b[0m",
      "\u001b[1;31mFileNotFoundError\u001b[0m                         Traceback (most recent call last)",
      "Cell \u001b[1;32mIn[1], line 2\u001b[0m\n\u001b[0;32m      1\u001b[0m \u001b[38;5;28;01mfrom\u001b[39;00m \u001b[38;5;21;01mConfigs\u001b[39;00m\u001b[38;5;21;01m.\u001b[39;00m\u001b[38;5;21;01mdbConfigs\u001b[39;00m \u001b[38;5;28;01mimport\u001b[39;00m PROFILE_TABLE_COLUMNS\n\u001b[1;32m----> 2\u001b[0m \u001b[38;5;28;01mfrom\u001b[39;00m \u001b[38;5;21;01mEntity\u001b[39;00m\u001b[38;5;21;01m.\u001b[39;00m\u001b[38;5;21;01mprofile\u001b[39;00m \u001b[38;5;28;01mimport\u001b[39;00m Profile\n\u001b[0;32m      3\u001b[0m \u001b[38;5;28;01mfrom\u001b[39;00m \u001b[38;5;21;01mMain\u001b[39;00m\u001b[38;5;21;01m.\u001b[39;00m\u001b[38;5;21;01mlogin\u001b[39;00m \u001b[38;5;28;01mimport\u001b[39;00m Login\n\u001b[0;32m      4\u001b[0m \u001b[38;5;28;01mimport\u001b[39;00m \u001b[38;5;21;01mpandas\u001b[39;00m \u001b[38;5;28;01mas\u001b[39;00m \u001b[38;5;21;01mpd\u001b[39;00m\n",
      "File \u001b[1;32mD:\\study-code-repeat\\coding\\Linkedin-Scalable-invitations\\Entity\\profile.py:1\u001b[0m\n\u001b[1;32m----> 1\u001b[0m \u001b[38;5;28;01mfrom\u001b[39;00m \u001b[38;5;21;01mUtils\u001b[39;00m\u001b[38;5;21;01m.\u001b[39;00m\u001b[38;5;21;01mutils\u001b[39;00m \u001b[38;5;28;01mimport\u001b[39;00m checkIfKeyExists, get_id_from_urn, getProfileCategory\n\u001b[0;32m      4\u001b[0m \u001b[38;5;28;01mclass\u001b[39;00m \u001b[38;5;21;01mProfile\u001b[39;00m:\n\u001b[0;32m      5\u001b[0m     \u001b[38;5;28;01mdef\u001b[39;00m \u001b[38;5;21m__init__\u001b[39m(\u001b[38;5;28mself\u001b[39m):\n\u001b[0;32m      6\u001b[0m         \u001b[38;5;66;03m# profile details\u001b[39;00m\n",
      "File \u001b[1;32mD:\\study-code-repeat\\coding\\Linkedin-Scalable-invitations\\Utils\\utils.py:6\u001b[0m\n\u001b[0;32m      4\u001b[0m \u001b[38;5;28;01mimport\u001b[39;00m \u001b[38;5;21;01mpandas\u001b[39;00m \u001b[38;5;28;01mas\u001b[39;00m \u001b[38;5;21;01mpd\u001b[39;00m\n\u001b[0;32m      5\u001b[0m \u001b[38;5;28;01mfrom\u001b[39;00m \u001b[38;5;21;01mConfigs\u001b[39;00m\u001b[38;5;21;01m.\u001b[39;00m\u001b[38;5;21;01menvrinomentSpecificConfgis\u001b[39;00m \u001b[38;5;28;01mimport\u001b[39;00m CACHE_FILE\n\u001b[1;32m----> 6\u001b[0m \u001b[38;5;28;01mfrom\u001b[39;00m \u001b[38;5;21;01mConfigs\u001b[39;00m\u001b[38;5;21;01m.\u001b[39;00m\u001b[38;5;21;01mjobConfigs\u001b[39;00m \u001b[38;5;28;01mimport\u001b[39;00m FIRSTNAME, LASTNAME, PUBLIC_PROFILE_ID\n\u001b[0;32m      7\u001b[0m \u001b[38;5;28;01mfrom\u001b[39;00m \u001b[38;5;21;01mfuzzywuzzy\u001b[39;00m \u001b[38;5;28;01mimport\u001b[39;00m fuzz\n\u001b[0;32m     10\u001b[0m \u001b[38;5;28;01mdef\u001b[39;00m \u001b[38;5;21mgetCurrentTime\u001b[39m():\n",
      "File \u001b[1;32mD:\\study-code-repeat\\coding\\Linkedin-Scalable-invitations\\Configs\\jobConfigs.py:16\u001b[0m\n\u001b[0;32m     13\u001b[0m     \u001b[38;5;28;01mreturn\u001b[39;00m data\n\u001b[0;32m     15\u001b[0m \u001b[38;5;66;03m# READS THE CONFIGURATION FILE\u001b[39;00m\n\u001b[1;32m---> 16\u001b[0m configs \u001b[38;5;241m=\u001b[39m \u001b[43mreadConfigurations\u001b[49m\u001b[43m(\u001b[49m\u001b[43mCONFIGURATION_FILE\u001b[49m\u001b[43m)\u001b[49m\n\u001b[0;32m     18\u001b[0m \u001b[38;5;66;03m# CACHE CONFIGURATION\u001b[39;00m\n\u001b[0;32m     19\u001b[0m PUBLIC_PROFILE_ID \u001b[38;5;241m=\u001b[39m configs[\u001b[38;5;124m'\u001b[39m\u001b[38;5;124mpublic_identifier\u001b[39m\u001b[38;5;124m'\u001b[39m]\n",
      "File \u001b[1;32mD:\\study-code-repeat\\coding\\Linkedin-Scalable-invitations\\Configs\\jobConfigs.py:11\u001b[0m, in \u001b[0;36mreadConfigurations\u001b[1;34m(filepath)\u001b[0m\n\u001b[0;32m     10\u001b[0m \u001b[38;5;28;01mdef\u001b[39;00m \u001b[38;5;21mreadConfigurations\u001b[39m(filepath):   \n\u001b[1;32m---> 11\u001b[0m     data \u001b[38;5;241m=\u001b[39m \u001b[43mreadYML\u001b[49m\u001b[43m(\u001b[49m\u001b[43mfilepath\u001b[49m\u001b[43m)\u001b[49m\n\u001b[0;32m     12\u001b[0m     \u001b[38;5;66;03m# Print the updated data\u001b[39;00m\n\u001b[0;32m     13\u001b[0m     \u001b[38;5;28;01mreturn\u001b[39;00m data\n",
      "File \u001b[1;32mD:\\study-code-repeat\\coding\\Linkedin-Scalable-invitations\\Configs\\jobConfigs.py:6\u001b[0m, in \u001b[0;36mreadYML\u001b[1;34m(filepath)\u001b[0m\n\u001b[0;32m      4\u001b[0m \u001b[38;5;28;01mdef\u001b[39;00m \u001b[38;5;21mreadYML\u001b[39m(filepath):\n\u001b[0;32m      5\u001b[0m     \u001b[38;5;66;03m# Load the YAML file\u001b[39;00m\n\u001b[1;32m----> 6\u001b[0m     \u001b[38;5;28;01mwith\u001b[39;00m \u001b[38;5;28;43mopen\u001b[39;49m\u001b[43m(\u001b[49m\u001b[43mfilepath\u001b[49m\u001b[43m,\u001b[49m\u001b[43m \u001b[49m\u001b[38;5;124;43m\"\u001b[39;49m\u001b[38;5;124;43mr\u001b[39;49m\u001b[38;5;124;43m\"\u001b[39;49m\u001b[43m)\u001b[49m \u001b[38;5;28;01mas\u001b[39;00m f:\n\u001b[0;32m      7\u001b[0m         data \u001b[38;5;241m=\u001b[39m yaml\u001b[38;5;241m.\u001b[39msafe_load(f)\n\u001b[0;32m      8\u001b[0m     \u001b[38;5;28;01mreturn\u001b[39;00m data\n",
      "\u001b[1;31mFileNotFoundError\u001b[0m: [Errno 2] No such file or directory: '..\\\\Params\\\\test\\\\jobParams.yaml'"
     ]
    }
   ],
   "source": [
    "from Configs.dbConfigs import PROFILE_TABLE_COLUMNS\n",
    "from Entity.profile import Profile\n",
    "from Main.login import Login\n",
    "import pandas as pd\n",
    "import json\n",
    "from Utils.gsutils import GoogleSheet\n",
    "\n",
    "from Utils.utils import get_concatinated_df, get_df_items_for_search_results, getCurrentDate, remove_duplicates_from_df\n",
    "\n"
   ]
  },
  {
   "cell_type": "code",
   "execution_count": null,
   "id": "246cf1d3",
   "metadata": {},
   "outputs": [],
   "source": [
    "\n",
    "api = Login()\n",
    "df = pd.DataFrame(columns=PROFILE_TABLE_COLUMNS)\n",
    "profile_id = \"ACoAABQ11fIBQLGQbB1V1XPBZJsRwfK5r1U2Rzw\"\n"
   ]
  },
  {
   "cell_type": "code",
   "execution_count": null,
   "id": "dc366eaa",
   "metadata": {},
   "outputs": [],
   "source": [
    "results = api.search_people(\n",
    "                            keyword_title=[\"Recruiter\"],\n",
    "                            regions=[\"103644278\"],\n",
    "                            network_depths=[\"S\", \"O\"],\n",
    "                            keyword_company=\"Google\",\n",
    "                            limit=10,\n",
    "                            )\n",
    "\n",
    "dataFrameData = []\n",
    "for peopleJSON in results:\n",
    "    profile = Profile()\n",
    "    \n",
    "    peopleProfile = api.get_profile(peopleJSON[\"urn_id\"])\n",
    "    profile.parseProfileJSON(peopleProfile)\n",
    "    profile.parseSearchPeopleJSON(peopleJSON)\n",
    "    dataFrameData.append(get_df_items_for_search_results(profile))\n",
    "\n",
    "\n",
    "df_people_from_search = pd.DataFrame(dataFrameData, columns=PROFILE_TABLE_COLUMNS)\n",
    "\n",
    "\n",
    "gsheet = GoogleSheet()\n",
    "client = gsheet.authenticate()\n",
    "df_people_from_gsheet = gsheet.get_spreadsheet_data(client)\n",
    "\n",
    "concatinated_df = get_concatinated_df(df_people_from_search,df_people_from_gsheet)\n",
    "no_duplicates_df = remove_duplicates_from_df(concatinated_df)\n",
    "pd.set_option('display.max_columns', None)\n",
    "print(no_duplicates_df)\n",
    "gsheet.update_spreadsheet(client, no_duplicates_df)\n"
   ]
  },
  {
   "cell_type": "code",
   "execution_count": null,
   "id": "ae3f8ff4",
   "metadata": {},
   "outputs": [],
   "source": []
  },
  {
   "cell_type": "code",
   "execution_count": null,
   "id": "fdc481fc",
   "metadata": {},
   "outputs": [],
   "source": []
  },
  {
   "cell_type": "code",
   "execution_count": null,
   "id": "12e613b9",
   "metadata": {},
   "outputs": [],
   "source": []
  }
 ],
 "metadata": {
  "kernelspec": {
   "display_name": "Python 3 (ipykernel)",
   "language": "python",
   "name": "python3"
  },
  "language_info": {
   "codemirror_mode": {
    "name": "ipython",
    "version": 3
   },
   "file_extension": ".py",
   "mimetype": "text/x-python",
   "name": "python",
   "nbconvert_exporter": "python",
   "pygments_lexer": "ipython3",
   "version": "3.9.1"
  }
 },
 "nbformat": 4,
 "nbformat_minor": 5
}
